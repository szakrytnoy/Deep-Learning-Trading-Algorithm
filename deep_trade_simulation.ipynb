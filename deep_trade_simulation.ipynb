{
 "cells": [
  {
   "cell_type": "code",
   "execution_count": 1,
   "metadata": {
    "collapsed": true
   },
   "outputs": [],
   "source": [
    "import pandas as pd\n",
    "import numpy as np\n",
    "import matplotlib.pyplot as plt"
   ]
  },
  {
   "cell_type": "code",
   "execution_count": 2,
   "metadata": {},
   "outputs": [
    {
     "name": "stdout",
     "output_type": "stream",
     "text": [
      "                     real  prediction\n",
      "Date     Time                        \n",
      "1/1/2017 22:00  64.746005   65.880692\n",
      "         23:00  64.345999   66.113693\n",
      "2/1/2017 0:00   64.358000   65.825493\n",
      "         1:00   64.360997   65.851082\n",
      "         2:00   64.733495   65.704971\n"
     ]
    }
   ],
   "source": [
    "eur = pd.read_csv('data.csv', header=0, index_col=['Date', 'Time'])\n",
    "signals = pd.read_excel('predictions.xlsx')\n",
    "signals = signals.set_index(eur.index)\n",
    "signals = signals.drop(['Date', 'Time'], axis=1)\n",
    "print(signals.head())"
   ]
  },
  {
   "cell_type": "code",
   "execution_count": 3,
   "metadata": {},
   "outputs": [
    {
     "name": "stdout",
     "output_type": "stream",
     "text": [
      "                     real  prediction       dif\n",
      "Date     Time                                  \n",
      "1/1/2017 22:00  64.746005   65.880692       NaN\n",
      "         23:00  64.345999   66.113693  0.233002\n",
      "2/1/2017 0:00   64.358000   65.825493 -0.288200\n",
      "         1:00   64.360997   65.851082  0.025589\n",
      "         2:00   64.733495   65.704971 -0.146111\n"
     ]
    }
   ],
   "source": [
    "signals['dif'] = signals['prediction'].diff()\n",
    "print(signals.head())"
   ]
  },
  {
   "cell_type": "code",
   "execution_count": 5,
   "metadata": {},
   "outputs": [
    {
     "name": "stdout",
     "output_type": "stream",
     "text": [
      "                     real  prediction       dif  signal  positions\n",
      "Date     Time                                                     \n",
      "1/1/2017 22:00  64.746005   65.880692       NaN     0.0        NaN\n",
      "         23:00  64.345999   66.113693  0.233002     1.0        1.0\n",
      "2/1/2017 0:00   64.358000   65.825493 -0.288200     0.0       -1.0\n",
      "         1:00   64.360997   65.851082  0.025589     1.0        1.0\n",
      "         2:00   64.733495   65.704971 -0.146111     0.0       -1.0\n"
     ]
    }
   ],
   "source": [
    "# Create signals\n",
    "signals['signal'] = 0.0\n",
    "signals['signal'][1:] = np.where(signals['dif'][1:]>0, 1.0, 0.0)\n",
    "signals['positions'] = signals['signal'].diff()\n",
    "print(signals.head())"
   ]
  },
  {
   "cell_type": "code",
   "execution_count": 6,
   "metadata": {},
   "outputs": [
    {
     "name": "stderr",
     "output_type": "stream",
     "text": [
      "C:\\ProgramData\\Anaconda3\\lib\\site-packages\\pandas\\core\\indexing.py:179: SettingWithCopyWarning: \n",
      "A value is trying to be set on a copy of a slice from a DataFrame\n",
      "\n",
      "See the caveats in the documentation: http://pandas.pydata.org/pandas-docs/stable/indexing.html#indexing-view-versus-copy\n",
      "  self._setitem_with_indexer(indexer, value)\n"
     ]
    },
    {
     "name": "stdout",
     "output_type": "stream",
     "text": [
      "                    eur  positions    holdings          cash         total  \\\n",
      "Date     Time                                                                \n",
      "29/12/17 23:00  69.1950        1.0  165.026548      0.000000  11419.012002   \n",
      "30/12/17 0:00   69.2920        0.0  165.026548      0.000000  11435.019577   \n",
      "         1:00   69.1582       -1.0    0.000000  11412.939025  11412.939025   \n",
      "         2:00   69.1890        1.0  164.953085      0.000000  11412.939025   \n",
      "31/12/17 22:00  69.2100       -1.0    0.000000  11416.403040  11416.403040   \n",
      "\n",
      "                 returns  \n",
      "Date     Time             \n",
      "29/12/17 23:00  0.141901  \n",
      "30/12/17 0:00   0.143502  \n",
      "         1:00   0.141294  \n",
      "         2:00   0.141294  \n",
      "31/12/17 22:00  0.141640  \n"
     ]
    }
   ],
   "source": [
    "# Set the initial capital\n",
    "initial_capital= float(10000.0)\n",
    "\n",
    "# Create a DataFrame `portfolio`\n",
    "portfolio = pd.DataFrame(index=signals.index).fillna(0.0)\n",
    "\n",
    "portfolio['eur'] = eur['Close']\n",
    "portfolio['positions'] = signals['positions']\n",
    "\n",
    "portfolio['holdings'] = [0 for x in range(len(portfolio))]\n",
    "portfolio['cash'] = [0 for x in range(len(portfolio))]\n",
    "\n",
    "portfolio['cash'].iloc[0] = initial_capital\n",
    "\n",
    "#Buy or sell when the positions are generated\n",
    "for i in range(len(portfolio)):\n",
    "    if i!=0:\n",
    "        portfolio['cash'].iloc[i] = portfolio['cash'].iloc[i-1]\n",
    "        portfolio['holdings'].iloc[i] = portfolio['holdings'].iloc[i-1]\n",
    "    \n",
    "    cash = portfolio['cash'].iloc[i]\n",
    "    eur = portfolio['eur'].iloc[i]\n",
    "    positions = portfolio['positions'].iloc[i]\n",
    "    holdings = portfolio['holdings'].iloc[i]\n",
    "    \n",
    "    if positions == 1:\n",
    "        holdings += cash/eur\n",
    "        cash = 0\n",
    "    if positions == -1:\n",
    "        cash += holdings*eur\n",
    "        holdings = 0\n",
    "        \n",
    "    portfolio['cash'].iloc[i] = cash\n",
    "    portfolio['holdings'].iloc[i] = holdings\n",
    "    \n",
    "# Add `total` to portfolio\n",
    "portfolio['total'] = portfolio['cash'] + portfolio['holdings']*portfolio['eur']\n",
    "\n",
    "# Add `returns` to portfolio\n",
    "portfolio['returns'] = portfolio['total']/initial_capital-1\n",
    "portfolio.drop(['eur'], axis=1)\n",
    "# Print the first lines of `portfolio`\n",
    "print(portfolio.tail())"
   ]
  },
  {
   "cell_type": "code",
   "execution_count": 16,
   "metadata": {
    "collapsed": true
   },
   "outputs": [],
   "source": [
    "signals.to_excel('signals.xlsx')"
   ]
  },
  {
   "cell_type": "code",
   "execution_count": 8,
   "metadata": {},
   "outputs": [
    {
     "data": {
      "image/png": "[encoded data removed]",
      "text/plain": [
       "<matplotlib.figure.Figure at 0x20876c36198>"
      ]
     },
     "metadata": {},
     "output_type": "display_data"
    }
   ],
   "source": [
    "a=[]\n",
    "for i in range(len(portfolio)):\n",
    "    a.append(portfolio['total'].iloc[i])\n",
    "plt.plot(a)\n",
    "plt.show()"
   ]
  },
  {
   "cell_type": "code",
   "execution_count": null,
   "metadata": {
    "collapsed": true
   },
   "outputs": [],
   "source": []
  }
 ],
 "metadata": {
  "kernelspec": {
   "display_name": "Python 3",
   "language": "python",
   "name": "python3"
  },
  "language_info": {
   "codemirror_mode": {
    "name": "ipython",
    "version": 3
   },
   "file_extension": ".py",
   "mimetype": "text/x-python",
   "name": "python",
   "nbconvert_exporter": "python",
   "pygments_lexer": "ipython3",
   "version": "3.5.0"
  }
 },
 "nbformat": 4,
 "nbformat_minor": 2
}
