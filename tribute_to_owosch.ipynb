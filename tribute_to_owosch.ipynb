{
 "cells": [
  {
   "cell_type": "code",
   "execution_count": 1,
   "metadata": {
    "collapsed": true
   },
   "outputs": [],
   "source": [
    "import pandas as pd\n",
    "import matplotlib.pyplot as plt"
   ]
  },
  {
   "cell_type": "code",
   "execution_count": 5,
   "metadata": {
    "scrolled": true
   },
   "outputs": [
    {
     "name": "stdout",
     "output_type": "stream",
     "text": [
      "                       Close\n",
      "Date       Time             \n",
      "2012-01-02 02:00:00  41.6471\n",
      "           03:00:00  41.6490\n",
      "           04:00:00  41.6711\n",
      "           05:00:00  41.6456\n",
      "           06:00:00  41.6198\n"
     ]
    }
   ],
   "source": [
    "eur = pd.read_excel('eur_rub_2012-2017_hours.xls', index_col = [0, 1])\n",
    "print(eur.head())"
   ]
  },
  {
   "cell_type": "code",
   "execution_count": 9,
   "metadata": {},
   "outputs": [
    {
     "name": "stderr",
     "output_type": "stream",
     "text": [
      "Using TensorFlow backend.\n"
     ]
    }
   ],
   "source": [
    "import numpy\n",
    "import matplotlib.pyplot as plt\n",
    "import pandas\n",
    "import math\n",
    "from keras.models import Sequential\n",
    "from keras.layers import Dense\n",
    "from keras.layers import LSTM\n",
    "from sklearn.preprocessing import MinMaxScaler\n",
    "from sklearn.metrics import mean_squared_error"
   ]
  },
  {
   "cell_type": "code",
   "execution_count": 10,
   "metadata": {
    "collapsed": true
   },
   "outputs": [],
   "source": [
    "# fix random seed for reproducibility\n",
    "numpy.random.seed(7)"
   ]
  },
  {
   "cell_type": "code",
   "execution_count": 11,
   "metadata": {
    "collapsed": true
   },
   "outputs": [],
   "source": [
    "eur_np_array = eur.values\n",
    "eur_np_array = eur_np_array.astype('float32')"
   ]
  },
  {
   "cell_type": "code",
   "execution_count": 12,
   "metadata": {},
   "outputs": [
    {
     "data": {
      "text/plain": [
       "array([[ 41.64709854],\n",
       "       [ 41.64899826],\n",
       "       [ 41.67110062],\n",
       "       ..., \n",
       "       [ 69.15820312],\n",
       "       [ 69.18900299],\n",
       "       [ 69.20999908]], dtype=float32)"
      ]
     },
     "execution_count": 12,
     "metadata": {},
     "output_type": "execute_result"
    }
   ],
   "source": [
    "eur_np_array"
   ]
  },
  {
   "cell_type": "code",
   "execution_count": 13,
   "metadata": {
    "collapsed": true
   },
   "outputs": [],
   "source": [
    "#normalize the dataset\n",
    "scaler = MinMaxScaler(feature_range=(0, 1))\n",
    "eur_normalized_np_array = scaler.fit_transform(eur_np_array)"
   ]
  },
  {
   "cell_type": "code",
   "execution_count": 14,
   "metadata": {},
   "outputs": [
    {
     "data": {
      "text/plain": [
       "array([[ 0.05758905],\n",
       "       [ 0.05762208],\n",
       "       [ 0.05800629],\n",
       "       [ 0.05756301],\n",
       "       [ 0.05711454]], dtype=float32)"
      ]
     },
     "execution_count": 14,
     "metadata": {},
     "output_type": "execute_result"
    }
   ],
   "source": [
    "eur_normalized_np_array[:5]"
   ]
  },
  {
   "cell_type": "code",
   "execution_count": 15,
   "metadata": {},
   "outputs": [
    {
     "name": "stdout",
     "output_type": "stream",
     "text": [
      "30542 7636\n"
     ]
    }
   ],
   "source": [
    "# split into train and test sets\n",
    "dataset = eur_normalized_np_array\n",
    "train_size = int(len(dataset) * 0.8)\n",
    "test_size = len(dataset) - train_size\n",
    "train, test = dataset[0:train_size,:], dataset[train_size:len(dataset),:]\n",
    "print(len(train), len(test))"
   ]
  },
  {
   "cell_type": "code",
   "execution_count": 16,
   "metadata": {
    "collapsed": true
   },
   "outputs": [],
   "source": [
    "# convert an array of values into a dataset matrix\n",
    "def create_dataset(dataset, look_back=1):\n",
    "\tdataX, dataY = [], []\n",
    "\tfor i in range(len(dataset)-look_back-1):\n",
    "\t\ta = dataset[i:(i+look_back), 0]\n",
    "\t\tdataX.append(a)\n",
    "\t\tdataY.append(dataset[i + look_back, 0])\n",
    "\treturn numpy.array(dataX), numpy.array(dataY)"
   ]
  },
  {
   "cell_type": "code",
   "execution_count": 17,
   "metadata": {
    "collapsed": true
   },
   "outputs": [],
   "source": [
    "# reshape into X=t and Y=t+1\n",
    "look_back = 3\n",
    "trainX, trainY = create_dataset(train, look_back)\n",
    "testX, testY = create_dataset(test, look_back)\n",
    "# reshape input to be [samples, time steps, features]\n",
    "trainX = numpy.reshape(trainX, (trainX.shape[0], trainX.shape[1], 1))\n",
    "testX = numpy.reshape(testX, (testX.shape[0], testX.shape[1], 1))"
   ]
  },
  {
   "cell_type": "code",
   "execution_count": 18,
   "metadata": {},
   "outputs": [
    {
     "data": {
      "text/plain": [
       "array([[[ 0.50745696],\n",
       "        [ 0.50664014],\n",
       "        [ 0.50597948]]], dtype=float32)"
      ]
     },
     "execution_count": 18,
     "metadata": {},
     "output_type": "execute_result"
    }
   ],
   "source": [
    "trainX[-1:]"
   ]
  },
  {
   "cell_type": "code",
   "execution_count": 19,
   "metadata": {},
   "outputs": [
    {
     "name": "stderr",
     "output_type": "stream",
     "text": [
      "C:\\ProgramData\\Anaconda3\\lib\\site-packages\\keras\\models.py:942: UserWarning: The `nb_epoch` argument in `fit` has been renamed `epochs`.\n",
      "  warnings.warn('The `nb_epoch` argument in `fit` '\n"
     ]
    },
    {
     "name": "stdout",
     "output_type": "stream",
     "text": [
      "Epoch 1/100\n",
      " - 82s - loss: 6.6240e-05\n",
      "Epoch 2/100\n",
      " - 74s - loss: 1.0759e-04\n",
      "Epoch 3/100\n",
      " - 81s - loss: 9.8582e-05\n",
      "Epoch 4/100\n",
      " - 101s - loss: 8.3702e-05\n",
      "Epoch 5/100\n",
      " - 74s - loss: 6.5290e-05\n",
      "Epoch 6/100\n",
      " - 74s - loss: 5.1291e-05\n",
      "Epoch 7/100\n",
      " - 75s - loss: 5.1084e-05\n",
      "Epoch 8/100\n",
      " - 76s - loss: 4.7003e-05\n",
      "Epoch 9/100\n",
      " - 74s - loss: 4.5323e-05\n",
      "Epoch 10/100\n",
      " - 74s - loss: 4.5132e-05\n",
      "Epoch 11/100\n",
      " - 74s - loss: 4.2655e-05\n",
      "Epoch 12/100\n",
      " - 74s - loss: 5.6598e-05\n",
      "Epoch 13/100\n",
      " - 74s - loss: 6.8853e-05\n",
      "Epoch 14/100\n",
      " - 75s - loss: 7.5040e-05\n",
      "Epoch 15/100\n",
      " - 74s - loss: 8.3159e-05\n",
      "Epoch 16/100\n",
      " - 74s - loss: 8.8631e-05\n",
      "Epoch 17/100\n",
      " - 74s - loss: 8.7937e-05\n",
      "Epoch 18/100\n",
      " - 74s - loss: 6.8889e-05\n",
      "Epoch 19/100\n",
      " - 75s - loss: 4.8350e-05\n",
      "Epoch 20/100\n",
      " - 74s - loss: 6.8372e-05\n",
      "Epoch 21/100\n",
      " - 74s - loss: 6.1016e-05\n",
      "Epoch 22/100\n",
      " - 75s - loss: 5.4661e-05\n",
      "Epoch 23/100\n",
      " - 74s - loss: 5.1886e-05\n",
      "Epoch 24/100\n",
      " - 75s - loss: 5.4240e-05\n",
      "Epoch 25/100\n",
      " - 75s - loss: 4.5284e-05\n",
      "Epoch 26/100\n",
      " - 74s - loss: 5.1153e-05\n",
      "Epoch 27/100\n",
      " - 75s - loss: 5.1675e-05\n",
      "Epoch 28/100\n",
      " - 74s - loss: 1.5324e-04\n",
      "Epoch 29/100\n",
      " - 74s - loss: 7.4275e-05\n",
      "Epoch 30/100\n",
      " - 75s - loss: 7.2678e-05\n",
      "Epoch 31/100\n",
      " - 75s - loss: 4.5166e-05\n",
      "Epoch 32/100\n",
      " - 75s - loss: 4.5282e-05\n",
      "Epoch 33/100\n",
      " - 74s - loss: 4.2775e-05\n",
      "Epoch 34/100\n",
      " - 74s - loss: 4.6972e-05\n",
      "Epoch 35/100\n",
      " - 74s - loss: 4.4717e-05\n",
      "Epoch 36/100\n",
      " - 74s - loss: 4.7476e-05\n",
      "Epoch 37/100\n",
      " - 74s - loss: 6.3448e-05\n",
      "Epoch 38/100\n",
      " - 75s - loss: 4.6735e-05\n",
      "Epoch 39/100\n",
      " - 75s - loss: 7.3377e-05\n",
      "Epoch 40/100\n",
      " - 75s - loss: 5.9852e-05\n",
      "Epoch 41/100\n",
      " - 74s - loss: 6.0839e-05\n",
      "Epoch 42/100\n",
      " - 74s - loss: 6.5496e-05\n",
      "Epoch 43/100\n",
      " - 75s - loss: 6.6806e-05\n",
      "Epoch 44/100\n",
      " - 74s - loss: 8.4818e-05\n",
      "Epoch 45/100\n",
      " - 75s - loss: 7.9796e-05\n",
      "Epoch 46/100\n",
      " - 74s - loss: 9.7207e-05\n",
      "Epoch 47/100\n",
      " - 76s - loss: 8.8847e-05\n",
      "Epoch 48/100\n",
      " - 75s - loss: 7.6350e-05\n",
      "Epoch 49/100\n",
      " - 75s - loss: 6.9730e-05\n",
      "Epoch 50/100\n",
      " - 74s - loss: 4.8656e-05\n",
      "Epoch 51/100\n",
      " - 74s - loss: 6.2077e-05\n",
      "Epoch 52/100\n",
      " - 75s - loss: 5.9531e-05\n",
      "Epoch 53/100\n",
      " - 75s - loss: 5.2784e-05\n",
      "Epoch 54/100\n",
      " - 75s - loss: 5.0950e-05\n",
      "Epoch 55/100\n",
      " - 74s - loss: 4.9287e-05\n",
      "Epoch 56/100\n",
      " - 75s - loss: 5.1430e-05\n",
      "Epoch 57/100\n",
      " - 74s - loss: 6.5551e-05\n",
      "Epoch 58/100\n",
      " - 74s - loss: 7.4787e-05\n",
      "Epoch 59/100\n",
      " - 74s - loss: 7.9591e-05\n",
      "Epoch 60/100\n",
      " - 78s - loss: 6.8984e-05\n",
      "Epoch 61/100\n",
      " - 74s - loss: 6.2957e-05\n",
      "Epoch 62/100\n",
      " - 74s - loss: 5.7769e-05\n",
      "Epoch 63/100\n",
      " - 74s - loss: 7.0801e-05\n",
      "Epoch 64/100\n",
      " - 75s - loss: 9.6343e-05\n",
      "Epoch 65/100\n",
      " - 74s - loss: 6.1683e-05\n",
      "Epoch 66/100\n",
      " - 74s - loss: 6.6501e-05\n",
      "Epoch 67/100\n",
      " - 74s - loss: 6.0483e-05\n",
      "Epoch 68/100\n",
      " - 74s - loss: 6.5349e-05\n",
      "Epoch 69/100\n",
      " - 75s - loss: 6.1230e-05\n",
      "Epoch 70/100\n",
      " - 74s - loss: 7.7557e-05\n",
      "Epoch 71/100\n",
      " - 74s - loss: 5.5159e-05\n",
      "Epoch 72/100\n",
      " - 74s - loss: 5.4504e-05\n",
      "Epoch 73/100\n",
      " - 74s - loss: 5.0335e-05\n",
      "Epoch 74/100\n",
      " - 74s - loss: 4.4594e-05\n",
      "Epoch 75/100\n",
      " - 74s - loss: 5.2511e-05\n",
      "Epoch 76/100\n",
      " - 76s - loss: 4.2098e-05\n",
      "Epoch 77/100\n",
      " - 74s - loss: 4.7014e-05\n",
      "Epoch 78/100\n",
      " - 74s - loss: 3.9188e-05\n",
      "Epoch 79/100\n",
      " - 74s - loss: 4.0743e-05\n",
      "Epoch 80/100\n",
      " - 75s - loss: 3.9848e-05\n",
      "Epoch 81/100\n",
      " - 74s - loss: 3.9688e-05\n",
      "Epoch 82/100\n",
      " - 75s - loss: 3.8626e-05\n",
      "Epoch 83/100\n",
      " - 74s - loss: 4.1397e-05\n",
      "Epoch 84/100\n",
      " - 74s - loss: 3.9869e-05\n",
      "Epoch 85/100\n",
      " - 74s - loss: 3.8872e-05\n",
      "Epoch 86/100\n",
      " - 74s - loss: 3.8380e-05\n",
      "Epoch 87/100\n",
      " - 75s - loss: 3.6654e-05\n",
      "Epoch 88/100\n",
      " - 74s - loss: 3.6169e-05\n",
      "Epoch 89/100\n",
      " - 75s - loss: 3.6203e-05\n",
      "Epoch 90/100\n",
      " - 74s - loss: 3.5895e-05\n",
      "Epoch 91/100\n",
      " - 75s - loss: 3.8016e-05\n",
      "Epoch 92/100\n",
      " - 75s - loss: 4.0180e-05\n",
      "Epoch 93/100\n",
      " - 74s - loss: 3.5771e-05\n",
      "Epoch 94/100\n",
      " - 74s - loss: 3.4875e-05\n",
      "Epoch 95/100\n",
      " - 74s - loss: 4.0878e-05\n",
      "Epoch 96/100\n",
      " - 75s - loss: 4.1295e-05\n",
      "Epoch 97/100\n",
      " - 75s - loss: 4.0949e-05\n",
      "Epoch 98/100\n",
      " - 74s - loss: 4.1332e-05\n",
      "Epoch 99/100\n",
      " - 75s - loss: 4.1027e-05\n",
      "Epoch 100/100\n",
      " - 74s - loss: 3.9926e-05\n"
     ]
    },
    {
     "data": {
      "text/plain": [
       "<keras.callbacks.History at 0x83ca358>"
      ]
     },
     "execution_count": 19,
     "metadata": {},
     "output_type": "execute_result"
    }
   ],
   "source": [
    "batch_size = 1\n",
    "model = Sequential()\n",
    "model.add(LSTM(4, batch_input_shape=(batch_size, look_back, 1), stateful=True))\n",
    "model.add(Dense(1))\n",
    "model.compile(loss='mean_squared_error', optimizer='adam')\n",
    "model.fit(trainX, trainY, nb_epoch=100, batch_size=batch_size, verbose=2, shuffle=False)"
   ]
  },
  {
   "cell_type": "code",
   "execution_count": 20,
   "metadata": {},
   "outputs": [
    {
     "name": "stdout",
     "output_type": "stream",
     "text": [
      "Train Score: 10.49 RMSE\n",
      "Test Score: 1.49 RMSE\n"
     ]
    }
   ],
   "source": [
    "# make predictions\n",
    "trainPredict = model.predict(trainX, batch_size=batch_size)\n",
    "model.reset_states()\n",
    "testPredict = model.predict(testX, batch_size=batch_size)\n",
    "# invert predictions\n",
    "trainPredict = scaler.inverse_transform(trainPredict)\n",
    "trainY = scaler.inverse_transform([trainY])\n",
    "testPredict = scaler.inverse_transform(testPredict)\n",
    "testY = scaler.inverse_transform([testY])\n",
    "# calculate root mean squared error\n",
    "trainScore = math.sqrt(mean_squared_error(trainY[0], trainPredict[:,0]))\n",
    "print('Train Score: %.2f RMSE' % (trainScore))\n",
    "testScore = math.sqrt(mean_squared_error(testY[0], testPredict[:,0]))\n",
    "print('Test Score: %.2f RMSE' % (testScore))"
   ]
  },
  {
   "cell_type": "code",
   "execution_count": 21,
   "metadata": {
    "collapsed": true
   },
   "outputs": [],
   "source": [
    "dataset = eur_normalized_np_array"
   ]
  },
  {
   "cell_type": "code",
   "execution_count": 23,
   "metadata": {},
   "outputs": [
    {
     "data": {
      "image/png": "[encoded data removed]",
      "text/plain": [
       "<matplotlib.figure.Figure at 0xfe35978>"
      ]
     },
     "metadata": {},
     "output_type": "display_data"
    }
   ],
   "source": [
    "# shift train predictions for plotting\n",
    "trainPredictPlot = numpy.empty_like(dataset)\n",
    "trainPredictPlot[:, :] = numpy.nan\n",
    "trainPredictPlot[look_back:len(trainPredict)+look_back, :] = trainPredict\n",
    "# shift test predictions for plotting\n",
    "testPredictPlot = numpy.empty_like(dataset)\n",
    "testPredictPlot[:, :] = numpy.nan\n",
    "testPredictPlot[len(trainPredict)+(look_back*2)+1:len(dataset)-1, :] = testPredict\n",
    "# plot baseline and predictions\n",
    "plt.plot(scaler.inverse_transform(dataset))\n",
    "plt.plot(trainPredictPlot)\n",
    "plt.plot(testPredictPlot)\n",
    "plt.show()"
   ]
  },
  {
   "cell_type": "code",
   "execution_count": 24,
   "metadata": {},
   "outputs": [
    {
     "data": {
      "text/plain": [
       "array([[         nan],\n",
       "       [         nan],\n",
       "       [         nan],\n",
       "       [ 49.8978653 ],\n",
       "       [ 49.93971634],\n",
       "       [ 50.37691879],\n",
       "       [ 53.21986008],\n",
       "       [ 56.00883484],\n",
       "       [ 55.87433243],\n",
       "       [ 55.84125519]], dtype=float32)"
      ]
     },
     "execution_count": 24,
     "metadata": {},
     "output_type": "execute_result"
    }
   ],
   "source": [
    "trainPredictPlot[:10]"
   ]
  },
  {
   "cell_type": "code",
   "execution_count": 25,
   "metadata": {},
   "outputs": [
    {
     "data": {
      "text/plain": [
       "array([[ 41.64709854],\n",
       "       [ 41.64899826],\n",
       "       [ 41.67110062],\n",
       "       [ 41.64559937],\n",
       "       [ 41.61980057],\n",
       "       [ 41.61989975],\n",
       "       [ 41.60380173],\n",
       "       [ 41.61750031],\n",
       "       [ 41.62739944],\n",
       "       [ 41.61439896]], dtype=float32)"
      ]
     },
     "execution_count": 25,
     "metadata": {},
     "output_type": "execute_result"
    }
   ],
   "source": [
    "scaler.inverse_transform(dataset)[:10]"
   ]
  },
  {
   "cell_type": "code",
   "execution_count": 26,
   "metadata": {},
   "outputs": [
    {
     "data": {
      "text/plain": [
       "7632"
      ]
     },
     "execution_count": 26,
     "metadata": {},
     "output_type": "execute_result"
    }
   ],
   "source": [
    "len(testPredict)"
   ]
  },
  {
   "cell_type": "code",
   "execution_count": 27,
   "metadata": {
    "collapsed": true
   },
   "outputs": [],
   "source": [
    "prediction = testPredict[-6432:]"
   ]
  },
  {
   "cell_type": "code",
   "execution_count": 28,
   "metadata": {
    "collapsed": true
   },
   "outputs": [],
   "source": [
    "real = testY[0][-6432:]"
   ]
  },
  {
   "cell_type": "code",
   "execution_count": 29,
   "metadata": {},
   "outputs": [
    {
     "name": "stdout",
     "output_type": "stream",
     "text": [
      "                  Close\n",
      "Date     Time          \n",
      "1/1/2017 22:00  64.3460\n",
      "         23:00  64.3580\n",
      "2/1/2017 0:00   64.3610\n",
      "         1:00   64.7335\n",
      "         2:00   64.7369\n"
     ]
    }
   ],
   "source": [
    "eur = pd.read_csv('data.csv', header=0, index_col=['Date', 'Time'])\n",
    "print(eur.head())\n",
    "\n",
    "predictions = pd.DataFrame(index=eur.index)\n",
    "predictions['real'] = real\n",
    "predictions['prediction'] = prediction"
   ]
  },
  {
   "cell_type": "code",
   "execution_count": 30,
   "metadata": {
    "collapsed": true
   },
   "outputs": [],
   "source": [
    "predictions.to_excel('predictions.xlsx')"
   ]
  },
  {
   "cell_type": "code",
   "execution_count": 29,
   "metadata": {},
   "outputs": [
    {
     "name": "stdout",
     "output_type": "stream",
     "text": [
      "5098\n"
     ]
    }
   ],
   "source": [
    "print(len(prediction))"
   ]
  },
  {
   "cell_type": "code",
   "execution_count": 67,
   "metadata": {},
   "outputs": [
    {
     "data": {
      "text/plain": [
       "8413"
      ]
     },
     "execution_count": 67,
     "metadata": {},
     "output_type": "execute_result"
    }
   ],
   "source": [
    "len(testPredict)"
   ]
  },
  {
   "cell_type": "code",
   "execution_count": null,
   "metadata": {
    "collapsed": true
   },
   "outputs": [],
   "source": []
  }
 ],
 "metadata": {
  "kernelspec": {
   "display_name": "Python 3",
   "language": "python",
   "name": "python3"
  },
  "language_info": {
   "codemirror_mode": {
    "name": "ipython",
    "version": 3
   },
   "file_extension": ".py",
   "mimetype": "text/x-python",
   "name": "python",
   "nbconvert_exporter": "python",
   "pygments_lexer": "ipython3",
   "version": "3.6.1"
  }
 },
 "nbformat": 4,
 "nbformat_minor": 2
}
